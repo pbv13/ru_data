{
 "cells": [
  {
   "cell_type": "markdown",
   "id": "ee8b7bdb",
   "metadata": {},
   "source": [
    "## Q1 (2 points)\n",
    "Convert a list of multiple integers into a single integer:\n",
    "\n",
    "Sample list: [11, 33, 50]\n",
    "\n",
    "Expected Output: 113350"
   ]
  },
  {
   "cell_type": "code",
   "execution_count": 31,
   "id": "db37fd52",
   "metadata": {},
   "outputs": [],
   "source": [
    "a = [11, 33, 50]"
   ]
  },
  {
   "cell_type": "code",
   "execution_count": 32,
   "id": "663b70f8",
   "metadata": {},
   "outputs": [
    {
     "data": {
      "text/plain": [
       "'113350'"
      ]
     },
     "execution_count": 32,
     "metadata": {},
     "output_type": "execute_result"
    }
   ],
   "source": [
    "# Write your program here. The cell output should be the integer 113350.\n",
    "single_int = ''\n",
    "for i in a:\n",
    "    single_int += str(i)\n",
    "    \n",
    "int(single_int)\n",
    "\n",
    "single_int\n"
   ]
  },
  {
   "cell_type": "markdown",
   "id": "5b63b43f",
   "metadata": {},
   "source": [
    "## Q2 (3 points)\n",
    "Flatten a given nested list structure. \n",
    "\n",
    "Original list: [0, 10, [20, 30], 40, 50, [60, 70, 80], [90, 100, 110, 120]]\n",
    "\n",
    "Flatten list:\n",
    "[0, 10, 20, 30, 40, 50, 60, 70, 80, 90, 100, 110, 120]"
   ]
  },
  {
   "cell_type": "code",
   "execution_count": 27,
   "id": "595e90a2",
   "metadata": {},
   "outputs": [],
   "source": [
    "a = [0, 10, [20, 30], 40, 50, [60, 70, 80], [90, 100, 110, 120]]"
   ]
  },
  {
   "cell_type": "code",
   "execution_count": 36,
   "id": "ce8fc6b2",
   "metadata": {
    "scrolled": false
   },
   "outputs": [
    {
     "data": {
      "text/plain": [
       "[0, 10, 20, 30, 40, 50, 60, 70, 80, 90, 100, 110, 120]"
      ]
     },
     "execution_count": 36,
     "metadata": {},
     "output_type": "execute_result"
    }
   ],
   "source": [
    "# Write your program here. The cell output should be the flattened list.\n",
    "flat_list = []\n",
    "for i in a:\n",
    "    if type(i) is list:\n",
    "        for item in i:\n",
    "            flat_list.append(item)\n",
    "            \n",
    "    else:\n",
    "        flat_list.append(i)\n",
    "    \n",
    "    \n",
    "flat_list\n",
    "\n"
   ]
  },
  {
   "cell_type": "markdown",
   "id": "a17788d2",
   "metadata": {},
   "source": [
    "## Q3 (2 points)\n",
    "Convert a given dictionary into a list of lists.\n",
    "\n",
    "Original Dictionary:\n",
    "{1: 'red', 2: 'green', 3: 'black', 4: 'white', 5: 'black'}\n",
    "\n",
    "Convert the said dictionary into a list of lists:\n",
    "[[1, 'red'], [2, 'green'], [3, 'black'], [4, 'white'], [5, 'black']]"
   ]
  },
  {
   "cell_type": "code",
   "execution_count": 35,
   "id": "c11f6cdc",
   "metadata": {},
   "outputs": [],
   "source": [
    "myDict = {\n",
    "    1: 'red',\n",
    "    2: 'green',\n",
    "    3: 'black',\n",
    "    4: 'white',\n",
    "    5: 'black'\n",
    "}"
   ]
  },
  {
   "cell_type": "code",
   "execution_count": 36,
   "id": "50be9788",
   "metadata": {
    "scrolled": true
   },
   "outputs": [
    {
     "data": {
      "text/plain": [
       "[[1, 'red'], [2, 'green'], [3, 'black'], [4, 'white'], [5, 'black']]"
      ]
     },
     "execution_count": 36,
     "metadata": {},
     "output_type": "execute_result"
    }
   ],
   "source": [
    "# Write your program here. The cell output should be the list of lists\n",
    "\n",
    "list(map(list, myDict.items()))"
   ]
  },
  {
   "cell_type": "markdown",
   "id": "11648db5",
   "metadata": {},
   "source": [
    "## Q4 (3 points)\n",
    "Create a new GitHub repository. Save this notebook to that repository, and enter the link to the GitHub repository below. "
   ]
  },
  {
   "cell_type": "markdown",
   "id": "c37d7ac3",
   "metadata": {},
   "source": []
  },
  {
   "cell_type": "markdown",
   "id": "86cb3267",
   "metadata": {},
   "source": []
  }
 ],
 "metadata": {
  "kernelspec": {
   "display_name": "Python 3 (ipykernel)",
   "language": "python",
   "name": "python3"
  },
  "language_info": {
   "codemirror_mode": {
    "name": "ipython",
    "version": 3
   },
   "file_extension": ".py",
   "mimetype": "text/x-python",
   "name": "python",
   "nbconvert_exporter": "python",
   "pygments_lexer": "ipython3",
   "version": "3.9.7"
  }
 },
 "nbformat": 4,
 "nbformat_minor": 5
}
